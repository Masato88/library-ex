{
 "cells": [
  {
   "cell_type": "code",
   "execution_count": null,
   "id": "956ecc41-91a6-4da5-8573-1d0776030b65",
   "metadata": {},
   "outputs": [],
   "source": [
    "import numpy as np\n",
    "import matplotlib.pyplot as plt\n",
    "import pandas as pd\n",
    "import lightgbm as lgb\n",
    "import seaborn as sns\n",
    "from pycaret.regression import *\n",
    "from sklearn.model_selection import train_test_split"
   ]
  },
  {
   "cell_type": "code",
   "execution_count": null,
   "id": "a1b104fc-f9a6-4403-b7d1-c530e55a6439",
   "metadata": {},
   "outputs": [],
   "source": [
    "dataset = pd.read_csv('train.tsv', sep='\\t')\n",
    "test_data = pd.read_csv('test.tsv', sep='\\t')\n",
    "dataset"
   ]
  }
 ],
 "metadata": {
  "kernelspec": {
   "display_name": "py310",
   "language": "python",
   "name": "py310"
  },
  "language_info": {
   "codemirror_mode": {
    "name": "ipython",
    "version": 3
   },
   "file_extension": ".py",
   "mimetype": "text/x-python",
   "name": "python",
   "nbconvert_exporter": "python",
   "pygments_lexer": "ipython3",
   "version": "3.10.14"
  }
 },
 "nbformat": 4,
 "nbformat_minor": 5
}
